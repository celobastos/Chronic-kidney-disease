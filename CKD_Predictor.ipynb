{
  "nbformat": 4,
  "nbformat_minor": 0,
  "metadata": {
    "colab": {
      "provenance": [],
      "collapsed_sections": [],
      "authorship_tag": "ABX9TyN5mg0twAzDDkw/jOD6hgVV",
      "include_colab_link": true
    },
    "kernelspec": {
      "name": "python3",
      "display_name": "Python 3"
    },
    "language_info": {
      "name": "python"
    }
  },
  "cells": [
    {
      "cell_type": "markdown",
      "metadata": {
        "id": "view-in-github",
        "colab_type": "text"
      },
      "source": [
        "<a href=\"https://colab.research.google.com/github/ldcss/Chronic-kidney-disease/blob/main/CKD_Predictor.ipynb\" target=\"_parent\"><img src=\"https://colab.research.google.com/assets/colab-badge.svg\" alt=\"Open In Colab\"/></a>"
      ]
    },
    {
      "cell_type": "markdown",
      "source": [
        "# Importando as bibliotecas necessárias\n",
        "Inicialmente, iremos importar todas as bibliotecas que iremos utilizar ao longo desse notebook."
      ],
      "metadata": {
        "id": "rbyvWjqSz7J8"
      }
    },
    {
      "cell_type": "code",
      "execution_count": null,
      "metadata": {
        "id": "Zfzjd8LBUOLR"
      },
      "outputs": [],
      "source": [
        "import pandas as pd\n",
        "import numpy as np\n",
        "import seaborn as sns\n",
        "import matplotlib.pyplot as plt\n",
        "import plotly.express as px\n",
        "from sklearn.base import TransformerMixin\n",
        "from sklearn.preprocessing import (FunctionTransformer, StandardScaler)\n",
        "from sklearn.decomposition import PCA\n",
        "from sklearn.discriminant_analysis import LinearDiscriminantAnalysis as LDA\n",
        "from scipy.stats import boxcox\n",
        "from sklearn.model_selection import (train_test_split, KFold, StratifiedKFold, cross_val_score, GridSearchCV, learning_curve, validation_curve)\n",
        "from sklearn.pipeline import Pipeline\n",
        "from sklearn.base import BaseEstimator, TransformerMixin\n",
        "from collections import Counter\n",
        "import warnings\n",
        "\n",
        "from sklearn.naive_bayes import GaussianNB\n",
        "from sklearn.tree import DecisionTreeClassifier\n",
        "from sklearn.svm import SVC\n"
      ]
    },
    {
      "cell_type": "markdown",
      "source": [
        "\n",
        "# Carregando a base de dados\n",
        "\n",
        "A base de dados que utilizaremos é um arquivo de extensão .csv, e para realizarmos a manipulação e análise dos dados que estão contidos neste dataset, utilizaremos a biblioteca pandas.\n"
      ],
      "metadata": {
        "id": "irKB8Cjy0dGT"
      }
    },
    {
      "cell_type": "code",
      "source": [
        "df = pd.read_csv('/content/kidney_disease.csv')\n",
        "\n",
        "\n",
        "df.drop([\"id\"],axis=1,inplace=True) \n",
        "\n",
        "df.info()\n"
      ],
      "metadata": {
        "colab": {
          "base_uri": "https://localhost:8080/"
        },
        "id": "WhihxPNj0tOR",
        "outputId": "a843d02c-25b6-485e-f706-206ef117cf53"
      },
      "execution_count": null,
      "outputs": [
        {
          "output_type": "stream",
          "name": "stdout",
          "text": [
            "<class 'pandas.core.frame.DataFrame'>\n",
            "RangeIndex: 400 entries, 0 to 399\n",
            "Data columns (total 25 columns):\n",
            " #   Column          Non-Null Count  Dtype  \n",
            "---  ------          --------------  -----  \n",
            " 0   age             391 non-null    float64\n",
            " 1   bp              388 non-null    float64\n",
            " 2   sg              353 non-null    float64\n",
            " 3   al              354 non-null    float64\n",
            " 4   su              351 non-null    float64\n",
            " 5   rbc             248 non-null    object \n",
            " 6   pc              335 non-null    object \n",
            " 7   pcc             396 non-null    object \n",
            " 8   ba              396 non-null    object \n",
            " 9   bgr             356 non-null    float64\n",
            " 10  bu              381 non-null    float64\n",
            " 11  sc              383 non-null    float64\n",
            " 12  sod             313 non-null    float64\n",
            " 13  pot             312 non-null    float64\n",
            " 14  hemo            348 non-null    float64\n",
            " 15  pcv             330 non-null    object \n",
            " 16  wc              295 non-null    object \n",
            " 17  rc              270 non-null    object \n",
            " 18  htn             398 non-null    object \n",
            " 19  dm              398 non-null    object \n",
            " 20  cad             398 non-null    object \n",
            " 21  appet           399 non-null    object \n",
            " 22  pe              399 non-null    object \n",
            " 23  ane             399 non-null    object \n",
            " 24  classification  400 non-null    object \n",
            "dtypes: float64(11), object(14)\n",
            "memory usage: 78.2+ KB\n"
          ]
        }
      ]
    },
    {
      "cell_type": "code",
      "source": [
        "df.head(7)"
      ],
      "metadata": {
        "colab": {
          "base_uri": "https://localhost:8080/",
          "height": 298
        },
        "id": "JmYcyeN4isq9",
        "outputId": "1db4ba18-6474-478a-f9eb-f0bcd25b639e"
      },
      "execution_count": null,
      "outputs": [
        {
          "output_type": "execute_result",
          "data": {
            "text/plain": [
              "    age    bp     sg   al   su     rbc        pc         pcc          ba  \\\n",
              "0  48.0  80.0  1.020  1.0  0.0     NaN    normal  notpresent  notpresent   \n",
              "1   7.0  50.0  1.020  4.0  0.0     NaN    normal  notpresent  notpresent   \n",
              "2  62.0  80.0  1.010  2.0  3.0  normal    normal  notpresent  notpresent   \n",
              "3  48.0  70.0  1.005  4.0  0.0  normal  abnormal     present  notpresent   \n",
              "4  51.0  80.0  1.010  2.0  0.0  normal    normal  notpresent  notpresent   \n",
              "5  60.0  90.0  1.015  3.0  0.0     NaN       NaN  notpresent  notpresent   \n",
              "6  68.0  70.0  1.010  0.0  0.0     NaN    normal  notpresent  notpresent   \n",
              "\n",
              "     bgr  ...  pcv    wc   rc  htn   dm cad appet   pe  ane classification  \n",
              "0  121.0  ...   44  7800  5.2  yes  yes  no  good   no   no            ckd  \n",
              "1    NaN  ...   38  6000  NaN   no   no  no  good   no   no            ckd  \n",
              "2  423.0  ...   31  7500  NaN   no  yes  no  poor   no  yes            ckd  \n",
              "3  117.0  ...   32  6700  3.9  yes   no  no  poor  yes  yes            ckd  \n",
              "4  106.0  ...   35  7300  4.6   no   no  no  good   no   no            ckd  \n",
              "5   74.0  ...   39  7800  4.4  yes  yes  no  good  yes   no            ckd  \n",
              "6  100.0  ...   36   NaN  NaN   no   no  no  good   no   no            ckd  \n",
              "\n",
              "[7 rows x 25 columns]"
            ],
            "text/html": [
              "\n",
              "  <div id=\"df-d841f98b-1b0d-4beb-8dda-2f509b8bfd11\">\n",
              "    <div class=\"colab-df-container\">\n",
              "      <div>\n",
              "<style scoped>\n",
              "    .dataframe tbody tr th:only-of-type {\n",
              "        vertical-align: middle;\n",
              "    }\n",
              "\n",
              "    .dataframe tbody tr th {\n",
              "        vertical-align: top;\n",
              "    }\n",
              "\n",
              "    .dataframe thead th {\n",
              "        text-align: right;\n",
              "    }\n",
              "</style>\n",
              "<table border=\"1\" class=\"dataframe\">\n",
              "  <thead>\n",
              "    <tr style=\"text-align: right;\">\n",
              "      <th></th>\n",
              "      <th>age</th>\n",
              "      <th>bp</th>\n",
              "      <th>sg</th>\n",
              "      <th>al</th>\n",
              "      <th>su</th>\n",
              "      <th>rbc</th>\n",
              "      <th>pc</th>\n",
              "      <th>pcc</th>\n",
              "      <th>ba</th>\n",
              "      <th>bgr</th>\n",
              "      <th>...</th>\n",
              "      <th>pcv</th>\n",
              "      <th>wc</th>\n",
              "      <th>rc</th>\n",
              "      <th>htn</th>\n",
              "      <th>dm</th>\n",
              "      <th>cad</th>\n",
              "      <th>appet</th>\n",
              "      <th>pe</th>\n",
              "      <th>ane</th>\n",
              "      <th>classification</th>\n",
              "    </tr>\n",
              "  </thead>\n",
              "  <tbody>\n",
              "    <tr>\n",
              "      <th>0</th>\n",
              "      <td>48.0</td>\n",
              "      <td>80.0</td>\n",
              "      <td>1.020</td>\n",
              "      <td>1.0</td>\n",
              "      <td>0.0</td>\n",
              "      <td>NaN</td>\n",
              "      <td>normal</td>\n",
              "      <td>notpresent</td>\n",
              "      <td>notpresent</td>\n",
              "      <td>121.0</td>\n",
              "      <td>...</td>\n",
              "      <td>44</td>\n",
              "      <td>7800</td>\n",
              "      <td>5.2</td>\n",
              "      <td>yes</td>\n",
              "      <td>yes</td>\n",
              "      <td>no</td>\n",
              "      <td>good</td>\n",
              "      <td>no</td>\n",
              "      <td>no</td>\n",
              "      <td>ckd</td>\n",
              "    </tr>\n",
              "    <tr>\n",
              "      <th>1</th>\n",
              "      <td>7.0</td>\n",
              "      <td>50.0</td>\n",
              "      <td>1.020</td>\n",
              "      <td>4.0</td>\n",
              "      <td>0.0</td>\n",
              "      <td>NaN</td>\n",
              "      <td>normal</td>\n",
              "      <td>notpresent</td>\n",
              "      <td>notpresent</td>\n",
              "      <td>NaN</td>\n",
              "      <td>...</td>\n",
              "      <td>38</td>\n",
              "      <td>6000</td>\n",
              "      <td>NaN</td>\n",
              "      <td>no</td>\n",
              "      <td>no</td>\n",
              "      <td>no</td>\n",
              "      <td>good</td>\n",
              "      <td>no</td>\n",
              "      <td>no</td>\n",
              "      <td>ckd</td>\n",
              "    </tr>\n",
              "    <tr>\n",
              "      <th>2</th>\n",
              "      <td>62.0</td>\n",
              "      <td>80.0</td>\n",
              "      <td>1.010</td>\n",
              "      <td>2.0</td>\n",
              "      <td>3.0</td>\n",
              "      <td>normal</td>\n",
              "      <td>normal</td>\n",
              "      <td>notpresent</td>\n",
              "      <td>notpresent</td>\n",
              "      <td>423.0</td>\n",
              "      <td>...</td>\n",
              "      <td>31</td>\n",
              "      <td>7500</td>\n",
              "      <td>NaN</td>\n",
              "      <td>no</td>\n",
              "      <td>yes</td>\n",
              "      <td>no</td>\n",
              "      <td>poor</td>\n",
              "      <td>no</td>\n",
              "      <td>yes</td>\n",
              "      <td>ckd</td>\n",
              "    </tr>\n",
              "    <tr>\n",
              "      <th>3</th>\n",
              "      <td>48.0</td>\n",
              "      <td>70.0</td>\n",
              "      <td>1.005</td>\n",
              "      <td>4.0</td>\n",
              "      <td>0.0</td>\n",
              "      <td>normal</td>\n",
              "      <td>abnormal</td>\n",
              "      <td>present</td>\n",
              "      <td>notpresent</td>\n",
              "      <td>117.0</td>\n",
              "      <td>...</td>\n",
              "      <td>32</td>\n",
              "      <td>6700</td>\n",
              "      <td>3.9</td>\n",
              "      <td>yes</td>\n",
              "      <td>no</td>\n",
              "      <td>no</td>\n",
              "      <td>poor</td>\n",
              "      <td>yes</td>\n",
              "      <td>yes</td>\n",
              "      <td>ckd</td>\n",
              "    </tr>\n",
              "    <tr>\n",
              "      <th>4</th>\n",
              "      <td>51.0</td>\n",
              "      <td>80.0</td>\n",
              "      <td>1.010</td>\n",
              "      <td>2.0</td>\n",
              "      <td>0.0</td>\n",
              "      <td>normal</td>\n",
              "      <td>normal</td>\n",
              "      <td>notpresent</td>\n",
              "      <td>notpresent</td>\n",
              "      <td>106.0</td>\n",
              "      <td>...</td>\n",
              "      <td>35</td>\n",
              "      <td>7300</td>\n",
              "      <td>4.6</td>\n",
              "      <td>no</td>\n",
              "      <td>no</td>\n",
              "      <td>no</td>\n",
              "      <td>good</td>\n",
              "      <td>no</td>\n",
              "      <td>no</td>\n",
              "      <td>ckd</td>\n",
              "    </tr>\n",
              "    <tr>\n",
              "      <th>5</th>\n",
              "      <td>60.0</td>\n",
              "      <td>90.0</td>\n",
              "      <td>1.015</td>\n",
              "      <td>3.0</td>\n",
              "      <td>0.0</td>\n",
              "      <td>NaN</td>\n",
              "      <td>NaN</td>\n",
              "      <td>notpresent</td>\n",
              "      <td>notpresent</td>\n",
              "      <td>74.0</td>\n",
              "      <td>...</td>\n",
              "      <td>39</td>\n",
              "      <td>7800</td>\n",
              "      <td>4.4</td>\n",
              "      <td>yes</td>\n",
              "      <td>yes</td>\n",
              "      <td>no</td>\n",
              "      <td>good</td>\n",
              "      <td>yes</td>\n",
              "      <td>no</td>\n",
              "      <td>ckd</td>\n",
              "    </tr>\n",
              "    <tr>\n",
              "      <th>6</th>\n",
              "      <td>68.0</td>\n",
              "      <td>70.0</td>\n",
              "      <td>1.010</td>\n",
              "      <td>0.0</td>\n",
              "      <td>0.0</td>\n",
              "      <td>NaN</td>\n",
              "      <td>normal</td>\n",
              "      <td>notpresent</td>\n",
              "      <td>notpresent</td>\n",
              "      <td>100.0</td>\n",
              "      <td>...</td>\n",
              "      <td>36</td>\n",
              "      <td>NaN</td>\n",
              "      <td>NaN</td>\n",
              "      <td>no</td>\n",
              "      <td>no</td>\n",
              "      <td>no</td>\n",
              "      <td>good</td>\n",
              "      <td>no</td>\n",
              "      <td>no</td>\n",
              "      <td>ckd</td>\n",
              "    </tr>\n",
              "  </tbody>\n",
              "</table>\n",
              "<p>7 rows × 25 columns</p>\n",
              "</div>\n",
              "      <button class=\"colab-df-convert\" onclick=\"convertToInteractive('df-d841f98b-1b0d-4beb-8dda-2f509b8bfd11')\"\n",
              "              title=\"Convert this dataframe to an interactive table.\"\n",
              "              style=\"display:none;\">\n",
              "        \n",
              "  <svg xmlns=\"http://www.w3.org/2000/svg\" height=\"24px\"viewBox=\"0 0 24 24\"\n",
              "       width=\"24px\">\n",
              "    <path d=\"M0 0h24v24H0V0z\" fill=\"none\"/>\n",
              "    <path d=\"M18.56 5.44l.94 2.06.94-2.06 2.06-.94-2.06-.94-.94-2.06-.94 2.06-2.06.94zm-11 1L8.5 8.5l.94-2.06 2.06-.94-2.06-.94L8.5 2.5l-.94 2.06-2.06.94zm10 10l.94 2.06.94-2.06 2.06-.94-2.06-.94-.94-2.06-.94 2.06-2.06.94z\"/><path d=\"M17.41 7.96l-1.37-1.37c-.4-.4-.92-.59-1.43-.59-.52 0-1.04.2-1.43.59L10.3 9.45l-7.72 7.72c-.78.78-.78 2.05 0 2.83L4 21.41c.39.39.9.59 1.41.59.51 0 1.02-.2 1.41-.59l7.78-7.78 2.81-2.81c.8-.78.8-2.07 0-2.86zM5.41 20L4 18.59l7.72-7.72 1.47 1.35L5.41 20z\"/>\n",
              "  </svg>\n",
              "      </button>\n",
              "      \n",
              "  <style>\n",
              "    .colab-df-container {\n",
              "      display:flex;\n",
              "      flex-wrap:wrap;\n",
              "      gap: 12px;\n",
              "    }\n",
              "\n",
              "    .colab-df-convert {\n",
              "      background-color: #E8F0FE;\n",
              "      border: none;\n",
              "      border-radius: 50%;\n",
              "      cursor: pointer;\n",
              "      display: none;\n",
              "      fill: #1967D2;\n",
              "      height: 32px;\n",
              "      padding: 0 0 0 0;\n",
              "      width: 32px;\n",
              "    }\n",
              "\n",
              "    .colab-df-convert:hover {\n",
              "      background-color: #E2EBFA;\n",
              "      box-shadow: 0px 1px 2px rgba(60, 64, 67, 0.3), 0px 1px 3px 1px rgba(60, 64, 67, 0.15);\n",
              "      fill: #174EA6;\n",
              "    }\n",
              "\n",
              "    [theme=dark] .colab-df-convert {\n",
              "      background-color: #3B4455;\n",
              "      fill: #D2E3FC;\n",
              "    }\n",
              "\n",
              "    [theme=dark] .colab-df-convert:hover {\n",
              "      background-color: #434B5C;\n",
              "      box-shadow: 0px 1px 3px 1px rgba(0, 0, 0, 0.15);\n",
              "      filter: drop-shadow(0px 1px 2px rgba(0, 0, 0, 0.3));\n",
              "      fill: #FFFFFF;\n",
              "    }\n",
              "  </style>\n",
              "\n",
              "      <script>\n",
              "        const buttonEl =\n",
              "          document.querySelector('#df-d841f98b-1b0d-4beb-8dda-2f509b8bfd11 button.colab-df-convert');\n",
              "        buttonEl.style.display =\n",
              "          google.colab.kernel.accessAllowed ? 'block' : 'none';\n",
              "\n",
              "        async function convertToInteractive(key) {\n",
              "          const element = document.querySelector('#df-d841f98b-1b0d-4beb-8dda-2f509b8bfd11');\n",
              "          const dataTable =\n",
              "            await google.colab.kernel.invokeFunction('convertToInteractive',\n",
              "                                                     [key], {});\n",
              "          if (!dataTable) return;\n",
              "\n",
              "          const docLinkHtml = 'Like what you see? Visit the ' +\n",
              "            '<a target=\"_blank\" href=https://colab.research.google.com/notebooks/data_table.ipynb>data table notebook</a>'\n",
              "            + ' to learn more about interactive tables.';\n",
              "          element.innerHTML = '';\n",
              "          dataTable['output_type'] = 'display_data';\n",
              "          await google.colab.output.renderOutput(dataTable, element);\n",
              "          const docLink = document.createElement('div');\n",
              "          docLink.innerHTML = docLinkHtml;\n",
              "          element.appendChild(docLink);\n",
              "        }\n",
              "      </script>\n",
              "    </div>\n",
              "  </div>\n",
              "  "
            ]
          },
          "metadata": {},
          "execution_count": 22
        }
      ]
    },
    {
      "cell_type": "code",
      "source": [
        "df.tail(7)"
      ],
      "metadata": {
        "colab": {
          "base_uri": "https://localhost:8080/",
          "height": 298
        },
        "id": "q8-cCwjY0sHr",
        "outputId": "49100682-3b51-4e7a-e69a-ebbfec7475f5"
      },
      "execution_count": null,
      "outputs": [
        {
          "output_type": "execute_result",
          "data": {
            "text/plain": [
              "      age    bp     sg   al   su     rbc      pc         pcc          ba  \\\n",
              "393  43.0  60.0  1.025  0.0  0.0  normal  normal  notpresent  notpresent   \n",
              "394  50.0  80.0  1.020  0.0  0.0  normal  normal  notpresent  notpresent   \n",
              "395  55.0  80.0  1.020  0.0  0.0  normal  normal  notpresent  notpresent   \n",
              "396  42.0  70.0  1.025  0.0  0.0  normal  normal  notpresent  notpresent   \n",
              "397  12.0  80.0  1.020  0.0  0.0  normal  normal  notpresent  notpresent   \n",
              "398  17.0  60.0  1.025  0.0  0.0  normal  normal  notpresent  notpresent   \n",
              "399  58.0  80.0  1.025  0.0  0.0  normal  normal  notpresent  notpresent   \n",
              "\n",
              "       bgr  ...  pcv    wc   rc  htn  dm cad appet  pe ane classification  \n",
              "393  117.0  ...   54  7400  5.4   no  no  no  good  no  no         notckd  \n",
              "394  137.0  ...   45  9500  4.6   no  no  no  good  no  no         notckd  \n",
              "395  140.0  ...   47  6700  4.9   no  no  no  good  no  no         notckd  \n",
              "396   75.0  ...   54  7800  6.2   no  no  no  good  no  no         notckd  \n",
              "397  100.0  ...   49  6600  5.4   no  no  no  good  no  no         notckd  \n",
              "398  114.0  ...   51  7200  5.9   no  no  no  good  no  no         notckd  \n",
              "399  131.0  ...   53  6800  6.1   no  no  no  good  no  no         notckd  \n",
              "\n",
              "[7 rows x 25 columns]"
            ],
            "text/html": [
              "\n",
              "  <div id=\"df-3ea3b8b7-b93c-4444-9a41-8c13f3ab2e64\">\n",
              "    <div class=\"colab-df-container\">\n",
              "      <div>\n",
              "<style scoped>\n",
              "    .dataframe tbody tr th:only-of-type {\n",
              "        vertical-align: middle;\n",
              "    }\n",
              "\n",
              "    .dataframe tbody tr th {\n",
              "        vertical-align: top;\n",
              "    }\n",
              "\n",
              "    .dataframe thead th {\n",
              "        text-align: right;\n",
              "    }\n",
              "</style>\n",
              "<table border=\"1\" class=\"dataframe\">\n",
              "  <thead>\n",
              "    <tr style=\"text-align: right;\">\n",
              "      <th></th>\n",
              "      <th>age</th>\n",
              "      <th>bp</th>\n",
              "      <th>sg</th>\n",
              "      <th>al</th>\n",
              "      <th>su</th>\n",
              "      <th>rbc</th>\n",
              "      <th>pc</th>\n",
              "      <th>pcc</th>\n",
              "      <th>ba</th>\n",
              "      <th>bgr</th>\n",
              "      <th>...</th>\n",
              "      <th>pcv</th>\n",
              "      <th>wc</th>\n",
              "      <th>rc</th>\n",
              "      <th>htn</th>\n",
              "      <th>dm</th>\n",
              "      <th>cad</th>\n",
              "      <th>appet</th>\n",
              "      <th>pe</th>\n",
              "      <th>ane</th>\n",
              "      <th>classification</th>\n",
              "    </tr>\n",
              "  </thead>\n",
              "  <tbody>\n",
              "    <tr>\n",
              "      <th>393</th>\n",
              "      <td>43.0</td>\n",
              "      <td>60.0</td>\n",
              "      <td>1.025</td>\n",
              "      <td>0.0</td>\n",
              "      <td>0.0</td>\n",
              "      <td>normal</td>\n",
              "      <td>normal</td>\n",
              "      <td>notpresent</td>\n",
              "      <td>notpresent</td>\n",
              "      <td>117.0</td>\n",
              "      <td>...</td>\n",
              "      <td>54</td>\n",
              "      <td>7400</td>\n",
              "      <td>5.4</td>\n",
              "      <td>no</td>\n",
              "      <td>no</td>\n",
              "      <td>no</td>\n",
              "      <td>good</td>\n",
              "      <td>no</td>\n",
              "      <td>no</td>\n",
              "      <td>notckd</td>\n",
              "    </tr>\n",
              "    <tr>\n",
              "      <th>394</th>\n",
              "      <td>50.0</td>\n",
              "      <td>80.0</td>\n",
              "      <td>1.020</td>\n",
              "      <td>0.0</td>\n",
              "      <td>0.0</td>\n",
              "      <td>normal</td>\n",
              "      <td>normal</td>\n",
              "      <td>notpresent</td>\n",
              "      <td>notpresent</td>\n",
              "      <td>137.0</td>\n",
              "      <td>...</td>\n",
              "      <td>45</td>\n",
              "      <td>9500</td>\n",
              "      <td>4.6</td>\n",
              "      <td>no</td>\n",
              "      <td>no</td>\n",
              "      <td>no</td>\n",
              "      <td>good</td>\n",
              "      <td>no</td>\n",
              "      <td>no</td>\n",
              "      <td>notckd</td>\n",
              "    </tr>\n",
              "    <tr>\n",
              "      <th>395</th>\n",
              "      <td>55.0</td>\n",
              "      <td>80.0</td>\n",
              "      <td>1.020</td>\n",
              "      <td>0.0</td>\n",
              "      <td>0.0</td>\n",
              "      <td>normal</td>\n",
              "      <td>normal</td>\n",
              "      <td>notpresent</td>\n",
              "      <td>notpresent</td>\n",
              "      <td>140.0</td>\n",
              "      <td>...</td>\n",
              "      <td>47</td>\n",
              "      <td>6700</td>\n",
              "      <td>4.9</td>\n",
              "      <td>no</td>\n",
              "      <td>no</td>\n",
              "      <td>no</td>\n",
              "      <td>good</td>\n",
              "      <td>no</td>\n",
              "      <td>no</td>\n",
              "      <td>notckd</td>\n",
              "    </tr>\n",
              "    <tr>\n",
              "      <th>396</th>\n",
              "      <td>42.0</td>\n",
              "      <td>70.0</td>\n",
              "      <td>1.025</td>\n",
              "      <td>0.0</td>\n",
              "      <td>0.0</td>\n",
              "      <td>normal</td>\n",
              "      <td>normal</td>\n",
              "      <td>notpresent</td>\n",
              "      <td>notpresent</td>\n",
              "      <td>75.0</td>\n",
              "      <td>...</td>\n",
              "      <td>54</td>\n",
              "      <td>7800</td>\n",
              "      <td>6.2</td>\n",
              "      <td>no</td>\n",
              "      <td>no</td>\n",
              "      <td>no</td>\n",
              "      <td>good</td>\n",
              "      <td>no</td>\n",
              "      <td>no</td>\n",
              "      <td>notckd</td>\n",
              "    </tr>\n",
              "    <tr>\n",
              "      <th>397</th>\n",
              "      <td>12.0</td>\n",
              "      <td>80.0</td>\n",
              "      <td>1.020</td>\n",
              "      <td>0.0</td>\n",
              "      <td>0.0</td>\n",
              "      <td>normal</td>\n",
              "      <td>normal</td>\n",
              "      <td>notpresent</td>\n",
              "      <td>notpresent</td>\n",
              "      <td>100.0</td>\n",
              "      <td>...</td>\n",
              "      <td>49</td>\n",
              "      <td>6600</td>\n",
              "      <td>5.4</td>\n",
              "      <td>no</td>\n",
              "      <td>no</td>\n",
              "      <td>no</td>\n",
              "      <td>good</td>\n",
              "      <td>no</td>\n",
              "      <td>no</td>\n",
              "      <td>notckd</td>\n",
              "    </tr>\n",
              "    <tr>\n",
              "      <th>398</th>\n",
              "      <td>17.0</td>\n",
              "      <td>60.0</td>\n",
              "      <td>1.025</td>\n",
              "      <td>0.0</td>\n",
              "      <td>0.0</td>\n",
              "      <td>normal</td>\n",
              "      <td>normal</td>\n",
              "      <td>notpresent</td>\n",
              "      <td>notpresent</td>\n",
              "      <td>114.0</td>\n",
              "      <td>...</td>\n",
              "      <td>51</td>\n",
              "      <td>7200</td>\n",
              "      <td>5.9</td>\n",
              "      <td>no</td>\n",
              "      <td>no</td>\n",
              "      <td>no</td>\n",
              "      <td>good</td>\n",
              "      <td>no</td>\n",
              "      <td>no</td>\n",
              "      <td>notckd</td>\n",
              "    </tr>\n",
              "    <tr>\n",
              "      <th>399</th>\n",
              "      <td>58.0</td>\n",
              "      <td>80.0</td>\n",
              "      <td>1.025</td>\n",
              "      <td>0.0</td>\n",
              "      <td>0.0</td>\n",
              "      <td>normal</td>\n",
              "      <td>normal</td>\n",
              "      <td>notpresent</td>\n",
              "      <td>notpresent</td>\n",
              "      <td>131.0</td>\n",
              "      <td>...</td>\n",
              "      <td>53</td>\n",
              "      <td>6800</td>\n",
              "      <td>6.1</td>\n",
              "      <td>no</td>\n",
              "      <td>no</td>\n",
              "      <td>no</td>\n",
              "      <td>good</td>\n",
              "      <td>no</td>\n",
              "      <td>no</td>\n",
              "      <td>notckd</td>\n",
              "    </tr>\n",
              "  </tbody>\n",
              "</table>\n",
              "<p>7 rows × 25 columns</p>\n",
              "</div>\n",
              "      <button class=\"colab-df-convert\" onclick=\"convertToInteractive('df-3ea3b8b7-b93c-4444-9a41-8c13f3ab2e64')\"\n",
              "              title=\"Convert this dataframe to an interactive table.\"\n",
              "              style=\"display:none;\">\n",
              "        \n",
              "  <svg xmlns=\"http://www.w3.org/2000/svg\" height=\"24px\"viewBox=\"0 0 24 24\"\n",
              "       width=\"24px\">\n",
              "    <path d=\"M0 0h24v24H0V0z\" fill=\"none\"/>\n",
              "    <path d=\"M18.56 5.44l.94 2.06.94-2.06 2.06-.94-2.06-.94-.94-2.06-.94 2.06-2.06.94zm-11 1L8.5 8.5l.94-2.06 2.06-.94-2.06-.94L8.5 2.5l-.94 2.06-2.06.94zm10 10l.94 2.06.94-2.06 2.06-.94-2.06-.94-.94-2.06-.94 2.06-2.06.94z\"/><path d=\"M17.41 7.96l-1.37-1.37c-.4-.4-.92-.59-1.43-.59-.52 0-1.04.2-1.43.59L10.3 9.45l-7.72 7.72c-.78.78-.78 2.05 0 2.83L4 21.41c.39.39.9.59 1.41.59.51 0 1.02-.2 1.41-.59l7.78-7.78 2.81-2.81c.8-.78.8-2.07 0-2.86zM5.41 20L4 18.59l7.72-7.72 1.47 1.35L5.41 20z\"/>\n",
              "  </svg>\n",
              "      </button>\n",
              "      \n",
              "  <style>\n",
              "    .colab-df-container {\n",
              "      display:flex;\n",
              "      flex-wrap:wrap;\n",
              "      gap: 12px;\n",
              "    }\n",
              "\n",
              "    .colab-df-convert {\n",
              "      background-color: #E8F0FE;\n",
              "      border: none;\n",
              "      border-radius: 50%;\n",
              "      cursor: pointer;\n",
              "      display: none;\n",
              "      fill: #1967D2;\n",
              "      height: 32px;\n",
              "      padding: 0 0 0 0;\n",
              "      width: 32px;\n",
              "    }\n",
              "\n",
              "    .colab-df-convert:hover {\n",
              "      background-color: #E2EBFA;\n",
              "      box-shadow: 0px 1px 2px rgba(60, 64, 67, 0.3), 0px 1px 3px 1px rgba(60, 64, 67, 0.15);\n",
              "      fill: #174EA6;\n",
              "    }\n",
              "\n",
              "    [theme=dark] .colab-df-convert {\n",
              "      background-color: #3B4455;\n",
              "      fill: #D2E3FC;\n",
              "    }\n",
              "\n",
              "    [theme=dark] .colab-df-convert:hover {\n",
              "      background-color: #434B5C;\n",
              "      box-shadow: 0px 1px 3px 1px rgba(0, 0, 0, 0.15);\n",
              "      filter: drop-shadow(0px 1px 2px rgba(0, 0, 0, 0.3));\n",
              "      fill: #FFFFFF;\n",
              "    }\n",
              "  </style>\n",
              "\n",
              "      <script>\n",
              "        const buttonEl =\n",
              "          document.querySelector('#df-3ea3b8b7-b93c-4444-9a41-8c13f3ab2e64 button.colab-df-convert');\n",
              "        buttonEl.style.display =\n",
              "          google.colab.kernel.accessAllowed ? 'block' : 'none';\n",
              "\n",
              "        async function convertToInteractive(key) {\n",
              "          const element = document.querySelector('#df-3ea3b8b7-b93c-4444-9a41-8c13f3ab2e64');\n",
              "          const dataTable =\n",
              "            await google.colab.kernel.invokeFunction('convertToInteractive',\n",
              "                                                     [key], {});\n",
              "          if (!dataTable) return;\n",
              "\n",
              "          const docLinkHtml = 'Like what you see? Visit the ' +\n",
              "            '<a target=\"_blank\" href=https://colab.research.google.com/notebooks/data_table.ipynb>data table notebook</a>'\n",
              "            + ' to learn more about interactive tables.';\n",
              "          element.innerHTML = '';\n",
              "          dataTable['output_type'] = 'display_data';\n",
              "          await google.colab.output.renderOutput(dataTable, element);\n",
              "          const docLink = document.createElement('div');\n",
              "          docLink.innerHTML = docLinkHtml;\n",
              "          element.appendChild(docLink);\n",
              "        }\n",
              "      </script>\n",
              "    </div>\n",
              "  </div>\n",
              "  "
            ]
          },
          "metadata": {},
          "execution_count": 23
        }
      ]
    },
    {
      "cell_type": "markdown",
      "source": [
        "#Limpeza do banco de dados"
      ],
      "metadata": {
        "id": "xRH3b3Lq2Zzj"
      }
    },
    {
      "cell_type": "markdown",
      "source": [
        "Aqui observamos as colunas do tipo objeto, de modo que, ao decorrer do notebook, descartaremos as colunas do tipo categórico, utilizando apenas o numérico para o uso do classificador bayesiano.\n",
        "\n",
        "Além disso, podemos encontrar os valores de cada campo, neste caso procurando há valores nulos ou mal formatados, para a limpeza do dataset."
      ],
      "metadata": {
        "id": "P0CztjFk1Jh4"
      }
    },
    {
      "cell_type": "code",
      "source": [
        "cat_col=[col for col in df.columns if df[col].dtype=='object']\n",
        "for col in cat_col:\n",
        "    print('{} has {} values '.format(col,df[col].unique()))\n",
        "    print('\\n')"
      ],
      "metadata": {
        "colab": {
          "base_uri": "https://localhost:8080/"
        },
        "id": "oybzu9ISjWrb",
        "outputId": "45ba0598-22a9-474e-a5d5-9fbb7b071d27"
      },
      "execution_count": null,
      "outputs": [
        {
          "output_type": "stream",
          "name": "stdout",
          "text": [
            "rbc has [nan 'normal' 'abnormal'] values \n",
            "\n",
            "\n",
            "pc has ['normal' 'abnormal' nan] values \n",
            "\n",
            "\n",
            "pcc has ['notpresent' 'present' nan] values \n",
            "\n",
            "\n",
            "ba has ['notpresent' 'present' nan] values \n",
            "\n",
            "\n",
            "pcv has ['44' '38' '31' '32' '35' '39' '36' '33' '29' '28' nan '16' '24' '37' '30'\n",
            " '34' '40' '45' '27' '48' '\\t?' '52' '14' '22' '18' '42' '17' '46' '23'\n",
            " '19' '25' '41' '26' '15' '21' '43' '20' '\\t43' '47' '9' '49' '50' '53'\n",
            " '51' '54'] values \n",
            "\n",
            "\n",
            "wc has ['7800' '6000' '7500' '6700' '7300' nan '6900' '9600' '12100' '4500'\n",
            " '12200' '11000' '3800' '11400' '5300' '9200' '6200' '8300' '8400' '10300'\n",
            " '9800' '9100' '7900' '6400' '8600' '18900' '21600' '4300' '8500' '11300'\n",
            " '7200' '7700' '14600' '6300' '\\t6200' '7100' '11800' '9400' '5500' '5800'\n",
            " '13200' '12500' '5600' '7000' '11900' '10400' '10700' '12700' '6800'\n",
            " '6500' '13600' '10200' '9000' '14900' '8200' '15200' '5000' '16300'\n",
            " '12400' '\\t8400' '10500' '4200' '4700' '10900' '8100' '9500' '2200'\n",
            " '12800' '11200' '19100' '\\t?' '12300' '16700' '2600' '26400' '8800'\n",
            " '7400' '4900' '8000' '12000' '15700' '4100' '5700' '11500' '5400' '10800'\n",
            " '9900' '5200' '5900' '9300' '9700' '5100' '6600'] values \n",
            "\n",
            "\n",
            "rc has ['5.2' nan '3.9' '4.6' '4.4' '5' '4.0' '3.7' '3.8' '3.4' '2.6' '2.8' '4.3'\n",
            " '3.2' '3.6' '4' '4.1' '4.9' '2.5' '4.2' '4.5' '3.1' '4.7' '3.5' '6.0'\n",
            " '5.0' '2.1' '5.6' '2.3' '2.9' '2.7' '8.0' '3.3' '3.0' '3' '2.4' '4.8'\n",
            " '\\t?' '5.4' '6.1' '6.2' '6.3' '5.1' '5.8' '5.5' '5.3' '6.4' '5.7' '5.9'\n",
            " '6.5'] values \n",
            "\n",
            "\n",
            "htn has ['yes' 'no' nan] values \n",
            "\n",
            "\n",
            "dm has ['yes' 'no' ' yes' '\\tno' '\\tyes' nan] values \n",
            "\n",
            "\n",
            "cad has ['no' 'yes' '\\tno' nan] values \n",
            "\n",
            "\n",
            "appet has ['good' 'poor' nan] values \n",
            "\n",
            "\n",
            "pe has ['no' 'yes' nan] values \n",
            "\n",
            "\n",
            "ane has ['no' 'yes' nan] values \n",
            "\n",
            "\n",
            "classification has ['ckd' 'ckd\\t' 'notckd'] values \n",
            "\n",
            "\n"
          ]
        }
      ]
    },
    {
      "cell_type": "markdown",
      "source": [
        "Como observado, há algumas colunas que não foram tipadas corretamente, cujo tipo deva ser algo numérico, ao invés de pertencer ao conjunto dos campos que são categóricos (e que posteriormente serão descartados)."
      ],
      "metadata": {
        "id": "UBXajpAT1ZY7"
      }
    },
    {
      "cell_type": "code",
      "source": [
        "features=['rc','pcv','wc']\n",
        "def convert_dtype(df,feature):\n",
        "    df[feature] = pd.to_numeric(df[feature], errors='coerce')\n",
        "    \n",
        "for feature in features:\n",
        "    convert_dtype(df,feature)\n",
        "    \n",
        "df.dtypes"
      ],
      "metadata": {
        "colab": {
          "base_uri": "https://localhost:8080/"
        },
        "id": "a4HLZSq1dYY6",
        "outputId": "dd5b5382-dace-42e0-8889-89211343a12f"
      },
      "execution_count": null,
      "outputs": [
        {
          "output_type": "execute_result",
          "data": {
            "text/plain": [
              "age               float64\n",
              "bp                float64\n",
              "sg                float64\n",
              "al                float64\n",
              "su                float64\n",
              "rbc                object\n",
              "pc                 object\n",
              "pcc                object\n",
              "ba                 object\n",
              "bgr               float64\n",
              "bu                float64\n",
              "sc                float64\n",
              "sod               float64\n",
              "pot               float64\n",
              "hemo              float64\n",
              "pcv               float64\n",
              "wc                float64\n",
              "rc                float64\n",
              "htn                object\n",
              "dm                 object\n",
              "cad                object\n",
              "appet              object\n",
              "pe                 object\n",
              "ane                object\n",
              "classification     object\n",
              "dtype: object"
            ]
          },
          "metadata": {},
          "execution_count": 25
        }
      ]
    },
    {
      "cell_type": "markdown",
      "source": [
        "Como observado na célula que mostra os valores únicos, há também má formatação nos dados do dataset, onde é necessário realizar um map para formatá-lo corretamente. "
      ],
      "metadata": {
        "id": "TZgx7-Sp1oe0"
      }
    },
    {
      "cell_type": "code",
      "source": [
        "df['classification']=df['classification'].map({'ckd':1,'notckd':0, 'ckd\\t':1})\n",
        "df.info()"
      ],
      "metadata": {
        "colab": {
          "base_uri": "https://localhost:8080/"
        },
        "id": "8G2rbizYdIb6",
        "outputId": "0d66d9c4-d842-4f96-fc59-53b2502685db"
      },
      "execution_count": null,
      "outputs": [
        {
          "output_type": "stream",
          "name": "stdout",
          "text": [
            "<class 'pandas.core.frame.DataFrame'>\n",
            "RangeIndex: 400 entries, 0 to 399\n",
            "Data columns (total 25 columns):\n",
            " #   Column          Non-Null Count  Dtype  \n",
            "---  ------          --------------  -----  \n",
            " 0   age             391 non-null    float64\n",
            " 1   bp              388 non-null    float64\n",
            " 2   sg              353 non-null    float64\n",
            " 3   al              354 non-null    float64\n",
            " 4   su              351 non-null    float64\n",
            " 5   rbc             248 non-null    object \n",
            " 6   pc              335 non-null    object \n",
            " 7   pcc             396 non-null    object \n",
            " 8   ba              396 non-null    object \n",
            " 9   bgr             356 non-null    float64\n",
            " 10  bu              381 non-null    float64\n",
            " 11  sc              383 non-null    float64\n",
            " 12  sod             313 non-null    float64\n",
            " 13  pot             312 non-null    float64\n",
            " 14  hemo            348 non-null    float64\n",
            " 15  pcv             329 non-null    float64\n",
            " 16  wc              294 non-null    float64\n",
            " 17  rc              269 non-null    float64\n",
            " 18  htn             398 non-null    object \n",
            " 19  dm              398 non-null    object \n",
            " 20  cad             398 non-null    object \n",
            " 21  appet           399 non-null    object \n",
            " 22  pe              399 non-null    object \n",
            " 23  ane             399 non-null    object \n",
            " 24  classification  400 non-null    int64  \n",
            "dtypes: float64(14), int64(1), object(10)\n",
            "memory usage: 78.2+ KB\n"
          ]
        }
      ]
    },
    {
      "cell_type": "code",
      "source": [
        "# Distribuição numérica da quantidade das classes no dataset, onde 1 são os que possuem doença cronica renal e 0 os que não possuem\n",
        "sns.countplot(x='classification',data=df)\n",
        "plt.xlabel(\"class\")\n",
        "plt.ylabel(\"Count\")\n",
        "plt.title(\"target Class\")"
      ],
      "metadata": {
        "colab": {
          "base_uri": "https://localhost:8080/",
          "height": 312
        },
        "id": "xtB8hU8VlqA1",
        "outputId": "f5dbfcc2-8a86-4644-9e7f-e8c862ed8b67"
      },
      "execution_count": null,
      "outputs": [
        {
          "output_type": "execute_result",
          "data": {
            "text/plain": [
              "Text(0.5, 1.0, 'target Class')"
            ]
          },
          "metadata": {},
          "execution_count": 27
        },
        {
          "output_type": "display_data",
          "data": {
            "text/plain": [
              "<Figure size 432x288 with 1 Axes>"
            ],
            "image/png": "[encoded data removed]"
          },
          "metadata": {
            "needs_background": "light"
          }
        }
      ]
    },
    {
      "cell_type": "code",
      "source": [
        "# Aqui preenchemos os valores nulos com a média do valor numérico da coluna\n",
        "num_cols=list(df.select_dtypes('float64'))\n",
        "for col in num_cols:\n",
        "    df[col]=df[col].fillna(df[col].median())\n",
        "df.isnull().sum()"
      ],
      "metadata": {
        "colab": {
          "base_uri": "https://localhost:8080/"
        },
        "id": "EhAYOOv2nN93",
        "outputId": "d8ea7ff7-34af-47b8-f22c-ba73829e26be"
      },
      "execution_count": null,
      "outputs": [
        {
          "output_type": "execute_result",
          "data": {
            "text/plain": [
              "age                 0\n",
              "bp                  0\n",
              "sg                  0\n",
              "al                  0\n",
              "su                  0\n",
              "rbc               152\n",
              "pc                 65\n",
              "pcc                 4\n",
              "ba                  4\n",
              "bgr                 0\n",
              "bu                  0\n",
              "sc                  0\n",
              "sod                 0\n",
              "pot                 0\n",
              "hemo                0\n",
              "pcv                 0\n",
              "wc                  0\n",
              "rc                  0\n",
              "htn                 2\n",
              "dm                  2\n",
              "cad                 2\n",
              "appet               1\n",
              "pe                  1\n",
              "ane                 1\n",
              "classification      0\n",
              "dtype: int64"
            ]
          },
          "metadata": {},
          "execution_count": 28
        }
      ]
    },
    {
      "cell_type": "markdown",
      "source": [],
      "metadata": {
        "id": "6j-ffXup2zHC"
      }
    },
    {
      "cell_type": "markdown",
      "source": [
        "#Exploração do banco de dados"
      ],
      "metadata": {
        "id": "PilThtWw2Rk6"
      }
    },
    {
      "cell_type": "markdown",
      "source": [
        "Observação na distribuição das features na base de dados"
      ],
      "metadata": {
        "id": "8z4OXnpI2z7D"
      }
    },
    {
      "cell_type": "code",
      "source": [
        "cols=[col for col in df.columns if df[col].dtype=='float64']\n",
        "for feat in cols:\n",
        "  skew = df[feat].skew()\n",
        "  sns.histplot(df[feat], kde= False, label='Enviesamento = %.3f' %(skew), bins=30)\n",
        "  plt.legend(loc='best')\n",
        "  plt.show()"
      ],
      "metadata": {
        "colab": {
          "base_uri": "https://localhost:8080/",
          "height": 1000
        },
        "id": "ktrENhXYlp9t",
        "outputId": "728eb6d5-8973-484f-f877-5a625a135295"
      },
      "execution_count": null,
      "outputs": [
        {
          "output_type": "display_data",
          "data": {
            "text/plain": [
              "<Figure size 432x288 with 1 Axes>"
            ],
            "image/png": "[encoded data removed]"
          },
          "metadata": {
            "needs_background": "light"
          }
        },
        {
          "output_type": "display_data",
          "data": {
            "text/plain": [
              "<Figure size 432x288 with 1 Axes>"
            ],
            "image/png": "[encoded data removed]"
          },
          "metadata": {
            "needs_background": "light"
          }
        },
        {
          "output_type": "display_data",
          "data": {
            "text/plain": [
              "<Figure size 432x288 with 1 Axes>"
            ],
            "image/png": "[encoded data removed]"
          },
          "metadata": {
            "needs_background": "light"
          }
        },
        {
          "output_type": "display_data",
          "data": {
            "text/plain": [
              "<Figure size 432x288 with 1 Axes>"
            ],
            "image/png": "[encoded data removed]"
          },
          "metadata": {
            "needs_background": "light"
          }
        },
        {
          "output_type": "display_data",
          "data": {
            "text/plain": [
              "<Figure size 432x288 with 1 Axes>"
            ],
            "image/png": "[encoded data removed]"
          },
          "metadata": {
            "needs_background": "light"
          }
        },
        {
          "output_type": "display_data",
          "data": {
            "text/plain": [
              "<Figure size 432x288 with 1 Axes>"
            ],
            "image/png": "[encoded data removed]"
          },
          "metadata": {
            "needs_background": "light"
          }
        },
        {
          "output_type": "display_data",
          "data": {
            "text/plain": [
              "<Figure size 432x288 with 1 Axes>"
            ],
            "image/png": "[encoded data removed]"
          },
          "metadata": {
            "needs_background": "light"
          }
        },
        {
          "output_type": "display_data",
          "data": {
            "text/plain": [
              "<Figure size 432x288 with 1 Axes>"
            ],
            "image/png": "[encoded data removed]"
          },
          "metadata": {
            "needs_background": "light"
          }
        },
        {
          "output_type": "display_data",
          "data": {
            "text/plain": [
              "<Figure size 432x288 with 1 Axes>"
            ],
            "image/png": "[encoded data removed]"
          },
          "metadata": {
            "needs_background": "light"
          }
        },
        {
          "output_type": "display_data",
          "data": {
            "text/plain": [
              "<Figure size 432x288 with 1 Axes>"
            ],
            "image/png": "[encoded data removed]"
          },
          "metadata": {
            "needs_background": "light"
          }
        },
        {
          "output_type": "display_data",
          "data": {
            "text/plain": [
              "<Figure size 432x288 with 1 Axes>"
            ],
            "image/png": "[encoded data removed]"
          },
          "metadata": {
            "needs_background": "light"
          }
        },
        {
          "output_type": "display_data",
          "data": {
            "text/plain": [
              "<Figure size 432x288 with 1 Axes>"
            ],
            "image/png": "[encoded data removed]"
          },
          "metadata": {
            "needs_background": "light"
          }
        },
        {
          "output_type": "display_data",
          "data": {
            "text/plain": [
              "<Figure size 432x288 with 1 Axes>"
            ],
            "image/png": "[encoded data removed]"
          },
          "metadata": {
            "needs_background": "light"
          }
        },
        {
          "output_type": "display_data",
          "data": {
            "text/plain": [
              "<Figure size 432x288 with 1 Axes>"
            ],
            "image/png": "[encoded data removed]"
          },
          "metadata": {
            "needs_background": "light"
          }
        }
      ]
    },
    {
      "cell_type": "markdown",
      "source": [
        "Com a análise da distribuição, fica claro que nenhuma variável foi distribuída normalmente. Deste modo, é nitido o enviesamento de algumas features, onde possívelmente há a presença de muitos outliers, sendo necessária a sua detecção;."
      ],
      "metadata": {
        "id": "u_7fAy663pII"
      }
    },
    {
      "cell_type": "code",
      "source": [
        "# Detecta observações com mais de um outlier\n",
        "\n",
        "def outlier_hunt(df):\n",
        "    outlier_indices = []\n",
        "    \n",
        "    # itera sobre as features (colunas)\n",
        "    for col in df.columns.tolist():\n",
        "        # primeiro quartil (25%)\n",
        "        Q1 = np.percentile(df[col], 25)\n",
        "        \n",
        "        # terceiro quartil (75%)\n",
        "        Q3 = np.percentile(df[col],75)\n",
        "        \n",
        "        # faixa interquartil\n",
        "        IQR = Q3 - Q1\n",
        "\n",
        "        outlier_step = 1.5 * IQR\n",
        "        \n",
        "        # Determina uma lista de índices de outliers para coluna de recurso\n",
        "        outlier_list_col = df[(df[col] < Q1 - outlier_step) | (df[col] > Q3 + outlier_step )].index\n",
        "        \n",
        "        # acrescenta os índices discrepantes encontrados para col à lista de índices discrepantes\n",
        "        outlier_indices.extend(outlier_list_col)\n",
        "        \n",
        "    # selecionar observações contendo mais de 2 outliers\n",
        "    outlier_indices = Counter(outlier_indices)        \n",
        "    multiple_outliers = list( k for k, v in outlier_indices.items() if v > 3 )\n",
        "    \n",
        "    return multiple_outliers   \n",
        "\n",
        "print('A base de dados contém %d observações com mais de 3 outliers' %(len(outlier_hunt(df[cols]))))"
      ],
      "metadata": {
        "colab": {
          "base_uri": "https://localhost:8080/"
        },
        "id": "cGapVSSMnGxX",
        "outputId": "c7a47089-3e8c-4521-9bf7-2f2f9c7e4ca0"
      },
      "execution_count": null,
      "outputs": [
        {
          "output_type": "stream",
          "name": "stdout",
          "text": [
            "A base de dados contém 29 observações com mais de 3 outliers\n"
          ]
        }
      ]
    },
    {
      "cell_type": "markdown",
      "source": [
        "Existem cerca de 29 observações com múltiplos outliers. Isso pode prejudicar a eficiência do nosso algoritmo de aprendizagem, sendo necessário a remoção destes no decorrer do notebook."
      ],
      "metadata": {
        "id": "schhpgsw4h3P"
      }
    },
    {
      "cell_type": "markdown",
      "source": [
        "Examinando o grafico de boxplot das features, vemos que a variável wc possui valores muitos discrepantes."
      ],
      "metadata": {
        "id": "P90QhShc4z1F"
      }
    },
    {
      "cell_type": "code",
      "source": [
        "plt.figure(figsize=(20,14))\n",
        "sns.boxplot(data=df[cols])\n",
        "plt.show()"
      ],
      "metadata": {
        "colab": {
          "base_uri": "https://localhost:8080/",
          "height": 809
        },
        "id": "5Dc5M1SbncHI",
        "outputId": "75125387-d5c7-414d-ed22-1205e822ab3b"
      },
      "execution_count": null,
      "outputs": [
        {
          "output_type": "display_data",
          "data": {
            "text/plain": [
              "<Figure size 1440x1008 with 1 Axes>"
            ],
            "image/png": "[encoded data removed]"
          },
          "metadata": {
            "needs_background": "light"
          }
        }
      ]
    },
    {
      "cell_type": "code",
      "source": [
        "# Excluindo os registros que contém mais de 3 outliers, limpando a ainda mais a base de dados\n",
        "outlier_indices = outlier_hunt(df[cols])\n",
        "df = df.drop(outlier_indices).reset_index(drop=True)\n",
        "print(df.shape)"
      ],
      "metadata": {
        "colab": {
          "base_uri": "https://localhost:8080/"
        },
        "id": "exv55FTRoUUg",
        "outputId": "78ab47f3-aaf0-408f-c1b4-8339251c50f8"
      },
      "execution_count": null,
      "outputs": [
        {
          "output_type": "stream",
          "name": "stdout",
          "text": [
            "(371, 25)\n"
          ]
        }
      ]
    },
    {
      "cell_type": "markdown",
      "source": [
        "Agora, com 29 registros a menos, temos um equilibrio maior entre o número total de cada classes"
      ],
      "metadata": {
        "id": "Lcog-sdV5oUu"
      }
    },
    {
      "cell_type": "code",
      "source": [
        "sns.countplot(df['classification'])\n",
        "plt.show()"
      ],
      "metadata": {
        "colab": {
          "base_uri": "https://localhost:8080/",
          "height": 334
        },
        "id": "t2OJvDrLogkF",
        "outputId": "80c4dd2b-8ce1-4c7a-abde-eb1963dba14b"
      },
      "execution_count": null,
      "outputs": [
        {
          "output_type": "stream",
          "name": "stderr",
          "text": [
            "/usr/local/lib/python3.7/dist-packages/seaborn/_decorators.py:43: FutureWarning: Pass the following variable as a keyword arg: x. From version 0.12, the only valid positional argument will be `data`, and passing other arguments without an explicit keyword will result in an error or misinterpretation.\n",
            "  FutureWarning\n"
          ]
        },
        {
          "output_type": "display_data",
          "data": {
            "text/plain": [
              "<Figure size 432x288 with 1 Axes>"
            ],
            "image/png": "[encoded data removed]"
          },
          "metadata": {
            "needs_background": "light"
          }
        }
      ]
    },
    {
      "cell_type": "code",
      "source": [
        "# Descartando todos os campos categóricos\n",
        "cat_col=[col for col in df.columns if df[col].dtype=='object']\n",
        "df.drop(cat_col,axis=1,inplace=True)\n",
        "df.info() "
      ],
      "metadata": {
        "colab": {
          "base_uri": "https://localhost:8080/"
        },
        "id": "wqwW2Uobeo3z",
        "outputId": "d536b386-d4d0-4922-cfaa-6df201711484"
      },
      "execution_count": null,
      "outputs": [
        {
          "output_type": "stream",
          "name": "stdout",
          "text": [
            "<class 'pandas.core.frame.DataFrame'>\n",
            "RangeIndex: 371 entries, 0 to 370\n",
            "Data columns (total 15 columns):\n",
            " #   Column          Non-Null Count  Dtype  \n",
            "---  ------          --------------  -----  \n",
            " 0   age             371 non-null    float64\n",
            " 1   bp              371 non-null    float64\n",
            " 2   sg              371 non-null    float64\n",
            " 3   al              371 non-null    float64\n",
            " 4   su              371 non-null    float64\n",
            " 5   bgr             371 non-null    float64\n",
            " 6   bu              371 non-null    float64\n",
            " 7   sc              371 non-null    float64\n",
            " 8   sod             371 non-null    float64\n",
            " 9   pot             371 non-null    float64\n",
            " 10  hemo            371 non-null    float64\n",
            " 11  pcv             371 non-null    float64\n",
            " 12  wc              371 non-null    float64\n",
            " 13  rc              371 non-null    float64\n",
            " 14  classification  371 non-null    int64  \n",
            "dtypes: float64(14), int64(1)\n",
            "memory usage: 43.6 KB\n"
          ]
        }
      ]
    },
    {
      "cell_type": "code",
      "source": [
        "# Checando se ainda há algum valor nulo\n",
        "df.isnull().sum()"
      ],
      "metadata": {
        "colab": {
          "base_uri": "https://localhost:8080/"
        },
        "id": "QdHaS5RsYsfc",
        "outputId": "46bfc839-0b1c-47f9-905f-646c22963539"
      },
      "execution_count": null,
      "outputs": [
        {
          "output_type": "execute_result",
          "data": {
            "text/plain": [
              "age               0\n",
              "bp                0\n",
              "sg                0\n",
              "al                0\n",
              "su                0\n",
              "bgr               0\n",
              "bu                0\n",
              "sc                0\n",
              "sod               0\n",
              "pot               0\n",
              "hemo              0\n",
              "pcv               0\n",
              "wc                0\n",
              "rc                0\n",
              "classification    0\n",
              "dtype: int64"
            ]
          },
          "metadata": {},
          "execution_count": 36
        }
      ]
    },
    {
      "cell_type": "code",
      "source": [
        "cat_col=[col for col in df.columns]\n",
        "for col in cat_col:\n",
        "    print('{} has {} values '.format(col,df[col].unique()))\n",
        "    print('\\n')"
      ],
      "metadata": {
        "colab": {
          "base_uri": "https://localhost:8080/"
        },
        "id": "mCXpBIVDZsmx",
        "outputId": "8e0a83f0-fd3a-413b-8a3b-172b95220087"
      },
      "execution_count": null,
      "outputs": [
        {
          "output_type": "stream",
          "name": "stdout",
          "text": [
            "age has [48.  7. 62. 51. 60. 68. 24. 52. 53. 50. 63. 40. 47. 61. 21. 42. 75. 69.\n",
            " 55. 73. 70. 65. 76. 72. 82. 46. 45. 35. 54. 11. 59. 67. 15. 44. 26. 64.\n",
            " 56.  5. 74. 38. 58. 71. 34. 17. 12. 43. 41. 57.  8. 39. 66. 81. 14. 27.\n",
            " 83. 30.  4.  3.  6. 80. 90. 78. 19.  2. 33. 36. 37. 23. 49. 25. 20. 29.\n",
            " 28. 32. 22. 79.] values \n",
            "\n",
            "\n",
            "bp has [ 80.  50.  70.  90. 100.  60. 110. 180. 120.] values \n",
            "\n",
            "\n",
            "sg has [1.02  1.01  1.005 1.015 1.025] values \n",
            "\n",
            "\n",
            "al has [1. 4. 2. 3. 0. 5.] values \n",
            "\n",
            "\n",
            "su has [0. 3. 4. 1. 2. 5.] values \n",
            "\n",
            "\n",
            "bgr has [121. 423. 117. 106.  74. 100. 410. 138.  70. 490. 380. 208.  98.  76.\n",
            "  99. 114. 263. 173.  95. 108. 156. 264. 123.  93. 107. 159. 140. 171.\n",
            " 270.  92. 137. 204.  79. 207. 124. 144.  91. 162. 246. 253. 141.  86.\n",
            " 150. 146. 425. 112. 250. 360. 163. 129. 133. 102. 158. 165. 132. 104.\n",
            " 127. 415. 169. 251. 109. 280. 210. 219.  94. 172. 298. 153.  88. 226.\n",
            " 143. 115.  89. 233. 294. 323. 125.  90. 308. 118. 122. 214. 213. 268.\n",
            " 256.  84. 105. 139.  78. 424. 303. 148. 160. 192. 307. 220. 447. 309.\n",
            "  22. 111. 215. 234. 131. 101.  80. 239. 130. 184. 113. 230. 341. 103.\n",
            " 238. 248. 120. 269. 201. 203. 463.  82. 119.  97.  96.  81. 110. 116.\n",
            " 128. 134.  85.  83.  87.  75.] values \n",
            "\n",
            "\n",
            "bu has [ 36.   18.   53.   56.   26.   25.   54.   31.   60.  107.   55.   72.\n",
            "  86.  162.   46.   87.   27.  148.  163.   42.   50.   75.   45.   28.\n",
            " 155.   33.   39.  153.   29.   65.  103.   70.   80.   20.  202.   77.\n",
            "  89.   24.   17.  114.   66.   38.  142.   96.   15.  111.   73.   19.\n",
            "  92.   35.   16.  139.   48.   85.   98.   37.   47.   52.   32.   82.\n",
            "  51.   22.  217.   88.  118.   50.1  71.   34.   40.   21.  219.   30.\n",
            " 125.   49.   68.  106.  145.  165.  322.   23.   76.   44.   41.  113.\n",
            "   1.5 146.  133.   58.   67.   98.6  94.   74.   61.   57.   95.   93.\n",
            " 241.   64.   79.   10. ] values \n",
            "\n",
            "\n",
            "sc has [ 1.2   0.8   1.8   3.8   1.4   1.1  24.    1.9   7.2   4.    2.7   2.1\n",
            "  4.6   9.6   2.2   5.2   1.3   1.6   3.9   7.7   2.4   7.3   1.5   2.5\n",
            "  2.    3.4   4.1   0.7   1.   10.8   6.3   5.9   3.    3.25  6.4   3.2\n",
            "  0.6   6.1   3.3   6.7   8.5   2.8   2.9   1.7   3.6   0.9   4.4  10.2\n",
            " 11.5   0.5  12.2   5.3  16.9   6.    7.1  18.    2.3  13.   48.1   2.6\n",
            "  7.5   6.5   4.3   9.3   6.8  13.5  13.4   0.4 ] values \n",
            "\n",
            "\n",
            "sod has [138. 111. 142. 104. 114. 131. 135. 141. 139. 136. 129. 140. 130. 132.\n",
            " 133. 134. 137. 128. 143. 127. 146. 126. 122. 147. 124. 115. 145. 125.\n",
            " 150. 144.] values \n",
            "\n",
            "\n",
            "pot has [4.4 2.5 3.2 4.  3.7 4.2 5.8 3.4 4.9 4.1 4.3 5.2 3.8 4.6 3.9 4.7 5.9 4.8\n",
            " 6.6 5.5 5.  3.5 3.6 4.5 5.7 5.4 5.3 6.3 5.1 5.6 2.8 3.3 2.9] values \n",
            "\n",
            "\n",
            "hemo has [15.4  11.3   9.6  11.2  11.6  12.2  12.4  10.8   9.5   9.4   9.7   9.8\n",
            "  7.6  12.6  12.1  12.7  10.3   7.7  12.65 11.1   9.9  12.5  12.9  10.1\n",
            " 12.   13.    7.9   9.3  15.    8.6  10.9  13.6  10.5   6.6  11.    7.5\n",
            " 15.6  15.2   9.1   8.1  11.9  13.5   8.3  16.1  10.4  10.   13.9  10.2\n",
            " 14.1   6.   11.8  11.7  11.4  14.   13.2   6.1   8.   12.3  14.3   9.\n",
            "  8.7  10.6  13.1  10.7   5.8   6.8   8.8   8.5  13.8  11.5  13.7  12.8\n",
            " 13.4   6.3  17.   15.9  14.5  15.5  16.2  14.4  14.2  16.3  14.8  16.5\n",
            " 15.7  13.3  14.6  16.4  16.9  16.   14.7  16.6  14.9  16.7  16.8  15.8\n",
            " 15.1  17.1  17.2  15.3  17.3  17.4  17.7  17.8  17.5  17.6 ] values \n",
            "\n",
            "\n",
            "pcv has [44. 38. 31. 32. 35. 39. 36. 33. 29. 28. 40. 24. 37. 30. 34. 45. 27. 48.\n",
            " 52. 42. 17. 46. 19. 41. 26. 23. 25. 21. 43. 47. 49. 50. 53. 51. 54.] values \n",
            "\n",
            "\n",
            "wc has [ 7800.  6000.  7500.  6700.  7300.  8000.  6900.  9600. 12100.  4500.\n",
            " 12200.  3800. 11400.  5300.  9200.  8300.  8400. 10300.  9800.  9100.\n",
            "  7900.  6400.  8600. 21600. 11000.  4300.  8500.  7200.  7700. 14600.\n",
            "  6200.  7100. 11800.  9400.  5500.  5800. 13200. 12500.  5600. 11900.\n",
            " 10400. 10700.  7000. 12700.  6800.  6500. 10200.  9000. 14900.  8200.\n",
            " 15200. 12400. 10500.  4200.  4700. 10900.  8100.  9500.  2200. 12800.\n",
            " 11200. 19100. 12300. 16700.  7400.  4900.  8800. 12000.  4100.  5700.\n",
            "  5000.  6300. 10800.  9900.  5200.  5400.  5900.  9300.  9700.  5100.\n",
            "  6600.] values \n",
            "\n",
            "\n",
            "rc has [5.2 4.8 3.9 4.6 4.4 5.  4.  3.7 3.8 3.4 2.8 4.3 3.2 4.1 4.9 2.5 4.2 4.5\n",
            " 3.1 4.7 3.5 6.  5.6 3.6 8.  3.3 2.4 5.4 3.  6.1 2.6 6.2 6.3 5.1 5.8 5.5\n",
            " 5.3 6.4 5.7 5.9 6.5] values \n",
            "\n",
            "\n",
            "classification has [1 0] values \n",
            "\n",
            "\n"
          ]
        }
      ]
    },
    {
      "cell_type": "code",
      "source": [
        "# Mapa de correlação entre as features\n",
        "plt.figure(figsize=(17,10))\n",
        "corr_df = df.corr()\n",
        "sns.heatmap(corr_df,annot=True)"
      ],
      "metadata": {
        "colab": {
          "base_uri": "https://localhost:8080/",
          "height": 613
        },
        "id": "MyaPYooskAmz",
        "outputId": "83fc7dcb-5843-4b74-af82-454aa3ef6988"
      },
      "execution_count": null,
      "outputs": [
        {
          "output_type": "execute_result",
          "data": {
            "text/plain": [
              "<matplotlib.axes._subplots.AxesSubplot at 0x7f092a7d1950>"
            ]
          },
          "metadata": {},
          "execution_count": 38
        },
        {
          "output_type": "display_data",
          "data": {
            "text/plain": [
              "<Figure size 1224x720 with 2 Axes>"
            ],
            "image/png": "[encoded data removed]"
          },
          "metadata": {
            "needs_background": "light"
          }
        }
      ]
    },
    {
      "cell_type": "markdown",
      "source": [
        "Utilizando o mapa de correlação para analisar a correlação das variáveis restantes, vemos que hemo possui uma alta correlação com pcv, enquanto que ambas as variáveis possuem correlação notável com a feature rc. Logo, para diminuir o número de features restantes, escolhemos a abordagem de tirar ambas as variáveis que contém correlação com rc."
      ],
      "metadata": {
        "id": "oYVlgkb-6pNu"
      }
    },
    {
      "cell_type": "code",
      "source": [
        "df.drop(['hemo', 'pcv'],axis=1,inplace=True)\n",
        "df.info()"
      ],
      "metadata": {
        "colab": {
          "base_uri": "https://localhost:8080/"
        },
        "id": "xyiNfE7MnhuV",
        "outputId": "c03f0583-26db-4704-b126-6527f6752b7e"
      },
      "execution_count": null,
      "outputs": [
        {
          "output_type": "stream",
          "name": "stdout",
          "text": [
            "<class 'pandas.core.frame.DataFrame'>\n",
            "RangeIndex: 371 entries, 0 to 370\n",
            "Data columns (total 13 columns):\n",
            " #   Column          Non-Null Count  Dtype  \n",
            "---  ------          --------------  -----  \n",
            " 0   age             371 non-null    float64\n",
            " 1   bp              371 non-null    float64\n",
            " 2   sg              371 non-null    float64\n",
            " 3   al              371 non-null    float64\n",
            " 4   su              371 non-null    float64\n",
            " 5   bgr             371 non-null    float64\n",
            " 6   bu              371 non-null    float64\n",
            " 7   sc              371 non-null    float64\n",
            " 8   sod             371 non-null    float64\n",
            " 9   pot             371 non-null    float64\n",
            " 10  wc              371 non-null    float64\n",
            " 11  rc              371 non-null    float64\n",
            " 12  classification  371 non-null    int64  \n",
            "dtypes: float64(12), int64(1)\n",
            "memory usage: 37.8 KB\n"
          ]
        }
      ]
    },
    {
      "cell_type": "markdown",
      "source": [
        "Com a análise exploratória feita em nossa base de dados, saímos de 25 features e 400 registros para 11 features e 371 registros."
      ],
      "metadata": {
        "id": "_VC63C6k68MY"
      }
    },
    {
      "cell_type": "markdown",
      "source": [
        "# Separando o conjunto de dados de validação"
      ],
      "metadata": {
        "id": "ZTVVRcJU7XIQ"
      }
    },
    {
      "cell_type": "markdown",
      "source": [
        "Em X, utilizamos iloc para guardar todos os campos exceto o último (a classe do dataset). Por outro lado, em Y utilizaremos iloc para pegar apenas o último campo, o da Classe. Separando assim as features e a classe do nosso dataset."
      ],
      "metadata": {
        "id": "OPHiYHxP7rMA"
      }
    },
    {
      "cell_type": "code",
      "source": [
        "# Separando as features da classe\n",
        "X = df.iloc[:,:-1].values\n",
        "y = df.iloc[:,-1].values"
      ],
      "metadata": {
        "id": "i0E1XV9eo1iw"
      },
      "execution_count": null,
      "outputs": []
    },
    {
      "cell_type": "code",
      "source": [
        "sc = StandardScaler()\n",
        "X = sc.fit_transform(X)"
      ],
      "metadata": {
        "id": "t5nLNKezo58Y"
      },
      "execution_count": null,
      "outputs": []
    },
    {
      "cell_type": "code",
      "source": [
        "# Utilizamos 30% do dataset para teste, enquanto que 70% será utilizada para o treino\n",
        "X_train , X_test , y_train , y_test   = train_test_split(X,y,test_size = 0.3 , random_state=123)  "
      ],
      "metadata": {
        "id": "Srn44sKMo8KN"
      },
      "execution_count": null,
      "outputs": []
    },
    {
      "cell_type": "markdown",
      "source": [
        "# Treinando o modelo"
      ],
      "metadata": {
        "id": "Qvo-1GdW8XAw"
      }
    },
    {
      "cell_type": "markdown",
      "source": [
        "Nessa seção é feito o treinamento e medição de acurácia do classificador de Bayes, será utilizado o algoritmo classificador GaussianNB, já que todos elementos do nosso dataset se tratam de valores numéricos.\n"
      ],
      "metadata": {
        "id": "6ZUyKsVh8ZIY"
      }
    },
    {
      "cell_type": "code",
      "source": [
        "knb = GaussianNB()\n",
        "knb.fit(X_train,y_train)"
      ],
      "metadata": {
        "colab": {
          "base_uri": "https://localhost:8080/"
        },
        "id": "pn5mAjH2pCry",
        "outputId": "7a721a68-0698-43ca-dd29-06854da13d48"
      },
      "execution_count": null,
      "outputs": [
        {
          "output_type": "execute_result",
          "data": {
            "text/plain": [
              "GaussianNB()"
            ]
          },
          "metadata": {},
          "execution_count": 44
        }
      ]
    },
    {
      "cell_type": "code",
      "source": [
        "y_pred_knb = knb.predict(X_test) "
      ],
      "metadata": {
        "id": "vNFwHHmZpGNR"
      },
      "execution_count": null,
      "outputs": []
    },
    {
      "cell_type": "code",
      "source": [
        "# Importando métricas para avaliar o desempenho do modelo\n",
        "from sklearn.metrics import roc_curve, auc, confusion_matrix, classification_report,accuracy_score\n",
        "score_knb = accuracy_score(y_pred_knb,y_test)\n",
        "score_knb"
      ],
      "metadata": {
        "colab": {
          "base_uri": "https://localhost:8080/"
        },
        "id": "pGxUOpNhpJAF",
        "outputId": "13fe84f5-678f-4597-e844-44c29525b26f"
      },
      "execution_count": null,
      "outputs": [
        {
          "output_type": "execute_result",
          "data": {
            "text/plain": [
              "0.8482142857142857"
            ]
          },
          "metadata": {},
          "execution_count": 46
        }
      ]
    },
    {
      "cell_type": "markdown",
      "source": [
        "A acurácia do modelo se encontra em 84%.\n"
      ],
      "metadata": {
        "id": "U_204l1y81fK"
      }
    },
    {
      "cell_type": "code",
      "source": [
        "print(\"train score: \" + str(knb.score(X_train, y_train)))\n",
        "print(\"test score: \" + str(knb.score(X_test, y_test)))"
      ],
      "metadata": {
        "colab": {
          "base_uri": "https://localhost:8080/"
        },
        "id": "qCfAQ1dNpZW4",
        "outputId": "ab878067-b15d-45e2-84ea-4396f87961fa"
      },
      "execution_count": null,
      "outputs": [
        {
          "output_type": "stream",
          "name": "stdout",
          "text": [
            "train score - 0.9111969111969112\n",
            "test score - 0.8482142857142857\n"
          ]
        }
      ]
    },
    {
      "cell_type": "code",
      "source": [
        "# Fazendo a matriz de confusão\n",
        "cm_knb = confusion_matrix(y_test,y_pred_knb)\n",
        "\n",
        "sns.set(font_scale=1.4)\n",
        "sns.heatmap(cm_knb, annot=True, annot_kws={\"size\": 16})\n",
        "\n",
        "plt.show()"
      ],
      "metadata": {
        "colab": {
          "base_uri": "https://localhost:8080/",
          "height": 279
        },
        "id": "1msIyXvgpb3v",
        "outputId": "f80c615b-e063-4c5f-8cbd-7bfe04209bd8"
      },
      "execution_count": null,
      "outputs": [
        {
          "output_type": "display_data",
          "data": {
            "text/plain": [
              "<Figure size 432x288 with 2 Axes>"
            ],
            "image/png": "[encoded data removed]"
          },
          "metadata": {}
        }
      ]
    },
    {
      "cell_type": "markdown",
      "source": [
        "De acordo com a matriz de confusão, não houve casos de falso positivo. Por outro lado, houveram 17 casos em que houveram falsos negativos."
      ],
      "metadata": {
        "id": "rEVmSCNa8iBm"
      }
    },
    {
      "cell_type": "code",
      "source": [
        "print(classification_report(y_test, y_pred_knb))"
      ],
      "metadata": {
        "colab": {
          "base_uri": "https://localhost:8080/"
        },
        "id": "90S4RGRKpm9P",
        "outputId": "006aa671-e011-492c-e042-745d5b66933a"
      },
      "execution_count": null,
      "outputs": [
        {
          "output_type": "stream",
          "name": "stdout",
          "text": [
            "              precision    recall  f1-score   support\n",
            "\n",
            "           0       0.73      1.00      0.84        45\n",
            "           1       1.00      0.75      0.85        67\n",
            "\n",
            "    accuracy                           0.85       112\n",
            "   macro avg       0.86      0.87      0.85       112\n",
            "weighted avg       0.89      0.85      0.85       112\n",
            "\n"
          ]
        }
      ]
    },
    {
      "cell_type": "markdown",
      "source": [
        "# Comparando o classificador com outras abordagens"
      ],
      "metadata": {
        "id": "cyqdgEw08_YA"
      }
    },
    {
      "cell_type": "markdown",
      "source": [
        "# Decision Tree"
      ],
      "metadata": {
        "id": "7QBFuguFhCMD"
      }
    },
    {
      "cell_type": "code",
      "source": [
        "dtc = DecisionTreeClassifier(criterion='entropy',random_state=0)\n",
        "dtc.fit(X_train,y_train)"
      ],
      "metadata": {
        "colab": {
          "base_uri": "https://localhost:8080/"
        },
        "id": "1WpASc5ohEzd",
        "outputId": "c84ce7bc-0b71-48c3-bf09-379d16741218"
      },
      "execution_count": null,
      "outputs": [
        {
          "output_type": "execute_result",
          "data": {
            "text/plain": [
              "DecisionTreeClassifier(criterion='entropy', random_state=0)"
            ]
          },
          "metadata": {},
          "execution_count": 50
        }
      ]
    },
    {
      "cell_type": "code",
      "source": [
        "y_pred_dtc = dtc.predict(X_test) "
      ],
      "metadata": {
        "id": "U699qRf4hHqj"
      },
      "execution_count": null,
      "outputs": []
    },
    {
      "cell_type": "code",
      "source": [
        "score_dtc = accuracy_score(y_pred_dtc,y_test)\n",
        "score_dtc"
      ],
      "metadata": {
        "colab": {
          "base_uri": "https://localhost:8080/"
        },
        "id": "_HYdwB-PhJT7",
        "outputId": "5dc1e7da-8acf-4555-96ce-ed91b7ca9580"
      },
      "execution_count": null,
      "outputs": [
        {
          "output_type": "execute_result",
          "data": {
            "text/plain": [
              "0.9732142857142857"
            ]
          },
          "metadata": {},
          "execution_count": 52
        }
      ]
    },
    {
      "cell_type": "markdown",
      "source": [
        "A acurácia do modelo utilizando a abordagem de decision tree foi 97%, 13% a mais que a abordagem bayesiana."
      ],
      "metadata": {
        "id": "6q588U7y9eMV"
      }
    },
    {
      "cell_type": "code",
      "source": [
        "print(\"train score: \" + str(dtc.score(X_train, y_train)))\n",
        "print(\"test score: \" + str(dtc.score(X_test, y_test)))"
      ],
      "metadata": {
        "colab": {
          "base_uri": "https://localhost:8080/"
        },
        "id": "e16gyRdvhLUU",
        "outputId": "42596a6f-5010-4c22-bb41-fd104b561ce5"
      },
      "execution_count": null,
      "outputs": [
        {
          "output_type": "stream",
          "name": "stdout",
          "text": [
            "train score - 1.0\n",
            "test score - 0.9732142857142857\n"
          ]
        }
      ]
    },
    {
      "cell_type": "code",
      "source": [
        "# Fazendo a matriz de confusão\n",
        "cm_dtc = confusion_matrix(y_test,y_pred_dtc)\n",
        "\n",
        "sns.set(font_scale=1.4)\n",
        "sns.heatmap(cm_dtc, annot=True, annot_kws={\"size\": 16})\n",
        "\n",
        "plt.show()"
      ],
      "metadata": {
        "colab": {
          "base_uri": "https://localhost:8080/",
          "height": 273
        },
        "id": "hXzxfx3QhPxe",
        "outputId": "76141595-bc5f-43aa-d6f9-92e6c475dc73"
      },
      "execution_count": null,
      "outputs": [
        {
          "output_type": "display_data",
          "data": {
            "text/plain": [
              "<Figure size 432x288 with 2 Axes>"
            ],
            "image/png": "[encoded data removed]"
          },
          "metadata": {}
        }
      ]
    },
    {
      "cell_type": "markdown",
      "source": [
        "De acordo com a matriz de confusão, houve apenas um caso de falso positivo. Por outro lado, em apenas dois casos houveram falsos negativos."
      ],
      "metadata": {
        "id": "st74nhFg9uKl"
      }
    },
    {
      "cell_type": "code",
      "source": [
        "print(classification_report(y_test, y_pred_dtc))"
      ],
      "metadata": {
        "colab": {
          "base_uri": "https://localhost:8080/"
        },
        "id": "Dwjpm10_hL7U",
        "outputId": "7f8e5105-bd26-477e-95ed-99118b6812f3"
      },
      "execution_count": null,
      "outputs": [
        {
          "output_type": "stream",
          "name": "stdout",
          "text": [
            "              precision    recall  f1-score   support\n",
            "\n",
            "           0       0.96      0.98      0.97        45\n",
            "           1       0.98      0.97      0.98        67\n",
            "\n",
            "    accuracy                           0.97       112\n",
            "   macro avg       0.97      0.97      0.97       112\n",
            "weighted avg       0.97      0.97      0.97       112\n",
            "\n"
          ]
        }
      ]
    },
    {
      "cell_type": "markdown",
      "source": [
        "# Support Vector Machine"
      ],
      "metadata": {
        "id": "yPs05uUThQpl"
      }
    },
    {
      "cell_type": "code",
      "source": [
        "# Fitting SVM para a base de treinamento\n",
        "svm = SVC(kernel='linear', random_state=0)\n",
        "svm.fit(X_train,y_train)"
      ],
      "metadata": {
        "colab": {
          "base_uri": "https://localhost:8080/"
        },
        "id": "on9LUwp7hWF7",
        "outputId": "5ebd740f-e65a-4b71-f023-79e57cb54c69"
      },
      "execution_count": null,
      "outputs": [
        {
          "output_type": "execute_result",
          "data": {
            "text/plain": [
              "SVC(kernel='linear', random_state=0)"
            ]
          },
          "metadata": {},
          "execution_count": 56
        }
      ]
    },
    {
      "cell_type": "code",
      "source": [
        "# Prevendo o resultado de teste\n",
        "y_pred_svm = svm.predict(X_test)"
      ],
      "metadata": {
        "id": "9XsQmK7DhZhs"
      },
      "execution_count": null,
      "outputs": []
    },
    {
      "cell_type": "code",
      "source": [
        "score_svm = accuracy_score(y_pred_svm,y_test)\n",
        "score_svm"
      ],
      "metadata": {
        "colab": {
          "base_uri": "https://localhost:8080/"
        },
        "id": "kH3paFOEhcFl",
        "outputId": "c5eef3c6-3a1c-4b5f-e3f9-0e67628d6058"
      },
      "execution_count": null,
      "outputs": [
        {
          "output_type": "execute_result",
          "data": {
            "text/plain": [
              "0.9553571428571429"
            ]
          },
          "metadata": {},
          "execution_count": 58
        }
      ]
    },
    {
      "cell_type": "markdown",
      "source": [
        "A acurácia do modelo utilizando a abordagem de decision tree foi 95%, 11% a mais que a abordagem bayesiana."
      ],
      "metadata": {
        "id": "LFeoTfjK9mzd"
      }
    },
    {
      "cell_type": "code",
      "source": [
        "print(\"train score: \" + str(svm.score(X_train, y_train)))\n",
        "print(\"test score: \" + str(svm.score(X_test, y_test)))"
      ],
      "metadata": {
        "colab": {
          "base_uri": "https://localhost:8080/"
        },
        "id": "u5Hy1LMQhd_e",
        "outputId": "c9994efe-a09b-4b06-e8ef-ca362b9edf93"
      },
      "execution_count": null,
      "outputs": [
        {
          "output_type": "stream",
          "name": "stdout",
          "text": [
            "train score - 0.9806949806949807\n",
            "test score - 0.9553571428571429\n"
          ]
        }
      ]
    },
    {
      "cell_type": "code",
      "source": [
        "# Fazendo a matriz de confusão\n",
        "cm_svm = confusion_matrix(y_test,y_pred_svm)\n",
        "\n",
        "sns.set(font_scale=1.4) \n",
        "sns.heatmap(cm_svm, annot=True, annot_kws={\"size\": 16}) \n",
        "\n",
        "plt.show()"
      ],
      "metadata": {
        "colab": {
          "base_uri": "https://localhost:8080/",
          "height": 273
        },
        "id": "vrQZ6CKyhfwb",
        "outputId": "9e529815-88db-4703-e3bb-07f6d91b7dcf"
      },
      "execution_count": null,
      "outputs": [
        {
          "output_type": "display_data",
          "data": {
            "text/plain": [
              "<Figure size 432x288 with 2 Axes>"
            ],
            "image/png": "[encoded data removed]"
          },
          "metadata": {}
        }
      ]
    },
    {
      "cell_type": "markdown",
      "source": [
        "De acordo com a matriz de confusão, não houve caso de falso positivo. Por outro lado, em cinco casos houveram falsos negativos."
      ],
      "metadata": {
        "id": "gecx7yb297oy"
      }
    },
    {
      "cell_type": "code",
      "source": [
        "print(classification_report(y_test, y_pred_svm))"
      ],
      "metadata": {
        "colab": {
          "base_uri": "https://localhost:8080/"
        },
        "id": "1TygK7cBhhhb",
        "outputId": "ba1ba1f0-d4ca-4a97-b63f-d9a98a1c549c"
      },
      "execution_count": null,
      "outputs": [
        {
          "output_type": "stream",
          "name": "stdout",
          "text": [
            "              precision    recall  f1-score   support\n",
            "\n",
            "           0       0.90      1.00      0.95        45\n",
            "           1       1.00      0.93      0.96        67\n",
            "\n",
            "    accuracy                           0.96       112\n",
            "   macro avg       0.95      0.96      0.95       112\n",
            "weighted avg       0.96      0.96      0.96       112\n",
            "\n"
          ]
        }
      ]
    },
    {
      "cell_type": "markdown",
      "source": [
        "# Conclusão\n",
        "Apesar de utilizar o mesmo dataset, o classificador bayesiano demonstra uma acurácia menor do que outras abordagens mais sólidas. Porém, apesar da comparação, o classificador apresentou 84% de acurácia em suas previsões, que acaba se tornando um ótimo resultado para a abordagem escolhida."
      ],
      "metadata": {
        "id": "AR8SDyOE-Bad"
      }
    }
  ]
}